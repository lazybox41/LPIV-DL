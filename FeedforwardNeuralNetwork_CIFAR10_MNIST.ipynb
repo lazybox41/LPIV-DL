{
 "cells": [
  {
   "cell_type": "code",
   "execution_count": 26,
   "id": "a381698c",
   "metadata": {},
   "outputs": [],
   "source": [
    "import tensorflow as tf\n",
    "import numpy as np\n",
    "import matplotlib.pyplot as plt\n",
    "from tensorflow.keras.layers import Dense\n",
    "from tensorflow.keras.models import Sequential\n",
    "from tensorflow.keras.datasets import cifar10,mnist\n",
    "from tensorflow.keras.optimizers import SGD\n",
    "from sklearn.preprocessing import LabelBinarizer\n",
    "from sklearn.metrics import classification_report"
   ]
  },
  {
   "cell_type": "code",
   "execution_count": null,
   "id": "2d0cfac9",
   "metadata": {},
   "outputs": [],
   "source": []
  },
  {
   "cell_type": "code",
   "execution_count": 32,
   "id": "e4d768e1",
   "metadata": {},
   "outputs": [
    {
     "data": {
      "text/plain": [
       "(60000, 28, 28)"
      ]
     },
     "execution_count": 32,
     "metadata": {},
     "output_type": "execute_result"
    }
   ],
   "source": [
    "(xtr,ytr),(xts,yts)=mnist.load_data()\n",
    "xtr.shape"
   ]
  },
  {
   "cell_type": "code",
   "execution_count": 33,
   "id": "8e13c751",
   "metadata": {},
   "outputs": [],
   "source": [
    "#(32,32,3) for CIFAR10, (28,28,1) for MNIST \n",
    "xtr=xtr.reshape(xtr.shape[0],28*28)\n",
    "xts=xts.reshape(xts.shape[0],28*28)\n",
    "xtr=xtr/255.0\n",
    "xts=xts/255.0\n",
    "\n",
    "lb=LabelBinarizer()\n",
    "ytr=lb.fit_transform(ytr)\n",
    "yts=lb.fit_transform(yts)"
   ]
  },
  {
   "cell_type": "code",
   "execution_count": 34,
   "id": "fe20c0e9",
   "metadata": {},
   "outputs": [],
   "source": [
    "model=Sequential()\n",
    "#3072 for CIFAR10, 784 for MNIST\n",
    "model.add(Dense(128,input_shape=(784,),activation='relu'))\n",
    "model.add(Dense(64,activation='relu'))\n",
    "model.add(Dense(32,activation='relu'))\n",
    "model.add(Dense(10,activation='softmax'))\n",
    "\n",
    "model.compile(loss='categorical_crossentropy',metrics=['accuracy'],optimizer='adam')"
   ]
  },
  {
   "cell_type": "code",
   "execution_count": 35,
   "id": "4f4a151f",
   "metadata": {},
   "outputs": [
    {
     "name": "stdout",
     "output_type": "stream",
     "text": [
      "Epoch 1/5\n",
      "1875/1875 [==============================] - 4s 2ms/step - loss: 0.2504 - accuracy: 0.9271 - val_loss: 0.1218 - val_accuracy: 0.9607\n",
      "Epoch 2/5\n",
      "1875/1875 [==============================] - 4s 2ms/step - loss: 0.1032 - accuracy: 0.9683 - val_loss: 0.0930 - val_accuracy: 0.9708\n",
      "Epoch 3/5\n",
      "1875/1875 [==============================] - 4s 2ms/step - loss: 0.0732 - accuracy: 0.9773 - val_loss: 0.0984 - val_accuracy: 0.9728\n",
      "Epoch 4/5\n",
      "1875/1875 [==============================] - 4s 2ms/step - loss: 0.0576 - accuracy: 0.9820 - val_loss: 0.0894 - val_accuracy: 0.9734\n",
      "Epoch 5/5\n",
      "1875/1875 [==============================] - 4s 2ms/step - loss: 0.0462 - accuracy: 0.9854 - val_loss: 0.0985 - val_accuracy: 0.9722\n"
     ]
    }
   ],
   "source": [
    "h=model.fit(xtr,ytr,epochs=5,validation_data=(xts,yts))"
   ]
  },
  {
   "cell_type": "code",
   "execution_count": 36,
   "id": "92daa845",
   "metadata": {},
   "outputs": [
    {
     "data": {
      "text/plain": [
       "[<matplotlib.lines.Line2D at 0x12e0b978040>]"
      ]
     },
     "execution_count": 36,
     "metadata": {},
     "output_type": "execute_result"
    },
    {
     "data": {
      "image/png": "[encoded data removed]",
      "text/plain": [
       "<Figure size 640x480 with 1 Axes>"
      ]
     },
     "metadata": {},
     "output_type": "display_data"
    }
   ],
   "source": [
    "plt.plot(np.arange(0,5),h.history['accuracy'],label='acc')"
   ]
  },
  {
   "cell_type": "code",
   "execution_count": 37,
   "id": "c343c36d",
   "metadata": {},
   "outputs": [
    {
     "name": "stdout",
     "output_type": "stream",
     "text": [
      "313/313 [==============================] - 0s 1ms/step\n",
      "              precision    recall  f1-score   support\n",
      "\n",
      "           0       0.97      0.99      0.98       980\n",
      "           1       0.99      0.99      0.99      1135\n",
      "           2       0.97      0.98      0.98      1032\n",
      "           3       0.94      0.98      0.96      1010\n",
      "           4       0.99      0.96      0.98       982\n",
      "           5       0.98      0.97      0.97       892\n",
      "           6       0.97      0.98      0.98       958\n",
      "           7       0.96      0.98      0.97      1028\n",
      "           8       0.97      0.96      0.96       974\n",
      "           9       0.99      0.94      0.96      1009\n",
      "\n",
      "    accuracy                           0.97     10000\n",
      "   macro avg       0.97      0.97      0.97     10000\n",
      "weighted avg       0.97      0.97      0.97     10000\n",
      "\n"
     ]
    }
   ],
   "source": [
    "predictions = model.predict(xts)\n",
    "print(classification_report(yts.argmax(axis=1),predictions.argmax(axis=1)))"
   ]
  },
  {
   "cell_type": "code",
   "execution_count": null,
   "id": "d3b7ebe4",
   "metadata": {},
   "outputs": [],
   "source": []
  }
 ],
 "metadata": {
  "kernelspec": {
   "display_name": "Python 3 (ipykernel)",
   "language": "python",
   "name": "python3"
  },
  "language_info": {
   "codemirror_mode": {
    "name": "ipython",
    "version": 3
   },
   "file_extension": ".py",
   "mimetype": "text/x-python",
   "name": "python",
   "nbconvert_exporter": "python",
   "pygments_lexer": "ipython3",
   "version": "3.9.13"
  }
 },
 "nbformat": 4,
 "nbformat_minor": 5
}
