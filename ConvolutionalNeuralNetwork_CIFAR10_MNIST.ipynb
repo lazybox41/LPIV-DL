{
 "cells": [
  {
   "cell_type": "code",
   "execution_count": 1,
   "id": "a082afcd",
   "metadata": {},
   "outputs": [],
   "source": [
    "import tensorflow as tf\n",
    "import numpy as np\n",
    "import matplotlib.pyplot as plt\n",
    "from tensorflow.keras.layers import Dense, Flatten, Conv2D, MaxPooling2D\n",
    "from tensorflow.keras.models import Sequential\n",
    "from tensorflow.keras.datasets import cifar10,mnist\n",
    "from tensorflow.keras.optimizers import SGD\n",
    "from sklearn.preprocessing import LabelBinarizer\n",
    "from sklearn.metrics import classification_report"
   ]
  },
  {
   "cell_type": "code",
   "execution_count": 4,
   "id": "54698551",
   "metadata": {},
   "outputs": [
    {
     "name": "stdout",
     "output_type": "stream",
     "text": [
      "(60000, 28, 28, 1)\n"
     ]
    }
   ],
   "source": [
    "(xtr,ytr),(xts,yts)=mnist.load_data()\n",
    "xtr=xtr.reshape(xtr.shape[0],xtr.shape[1],xtr.shape[2],1)\n",
    "print(xtr.shape)\n",
    "xtr=xtr/255.0\n",
    "xts=xts/255.0\n",
    "lb=LabelBinarizer()\n",
    "ytr=lb.fit_transform(ytr)\n",
    "yts=lb.fit_transform(yts)"
   ]
  },
  {
   "cell_type": "code",
   "execution_count": 9,
   "id": "ee435848",
   "metadata": {},
   "outputs": [],
   "source": [
    "model=Sequential()\n",
    "model.add(Conv2D(32,(3,3),input_shape=(28,28,1),activation='relu'))\n",
    "model.add(MaxPooling2D(2,2))\n",
    "model.add(Conv2D(64,(3,3),activation='relu'))\n",
    "model.add(MaxPooling2D(2,2))\n",
    "model.add(Conv2D(128,(3,3),activation='relu'))\n",
    "model.add(MaxPooling2D(2,2))\n",
    "model.add(Flatten())\n",
    "model.add(Dense(10,activation='softmax'))\n",
    "\n",
    "model.compile(loss='categorical_crossentropy',optimizer='adam',metrics=['accuracy'])"
   ]
  },
  {
   "cell_type": "code",
   "execution_count": 10,
   "id": "a7ae093b",
   "metadata": {},
   "outputs": [
    {
     "name": "stdout",
     "output_type": "stream",
     "text": [
      "Epoch 1/5\n",
      "1875/1875 [==============================] - 33s 17ms/step - loss: 0.1781 - accuracy: 0.9459 - val_loss: 0.0672 - val_accuracy: 0.9809\n",
      "Epoch 2/5\n",
      "1875/1875 [==============================] - 34s 18ms/step - loss: 0.0646 - accuracy: 0.9800 - val_loss: 0.0449 - val_accuracy: 0.9860\n",
      "Epoch 3/5\n",
      "1875/1875 [==============================] - 30s 16ms/step - loss: 0.0463 - accuracy: 0.9851 - val_loss: 0.0528 - val_accuracy: 0.9839\n",
      "Epoch 4/5\n",
      "1875/1875 [==============================] - 31s 16ms/step - loss: 0.0353 - accuracy: 0.9888 - val_loss: 0.0394 - val_accuracy: 0.9879\n",
      "Epoch 5/5\n",
      "1875/1875 [==============================] - 31s 16ms/step - loss: 0.0283 - accuracy: 0.9910 - val_loss: 0.0509 - val_accuracy: 0.9847\n"
     ]
    }
   ],
   "source": [
    "h=model.fit(xtr,ytr,validation_data=(xts,yts),epochs=5)"
   ]
  },
  {
   "cell_type": "code",
   "execution_count": 12,
   "id": "712c9467",
   "metadata": {},
   "outputs": [
    {
     "data": {
      "text/plain": [
       "[<matplotlib.lines.Line2D at 0x248a0ee87c0>]"
      ]
     },
     "execution_count": 12,
     "metadata": {},
     "output_type": "execute_result"
    },
    {
     "data": {
      "image/png": "[encoded data removed]",
      "text/plain": [
       "<Figure size 640x480 with 1 Axes>"
      ]
     },
     "metadata": {},
     "output_type": "display_data"
    }
   ],
   "source": [
    "plt.plot(np.arange(0,5),h.history['accuracy'])"
   ]
  },
  {
   "cell_type": "code",
   "execution_count": 14,
   "id": "9e22df1d",
   "metadata": {},
   "outputs": [
    {
     "name": "stdout",
     "output_type": "stream",
     "text": [
      "313/313 [==============================] - 1s 4ms/step\n",
      "              precision    recall  f1-score   support\n",
      "\n",
      "           0       0.99      0.99      0.99       980\n",
      "           1       0.99      1.00      0.99      1135\n",
      "           2       0.98      0.99      0.99      1032\n",
      "           3       0.98      1.00      0.99      1010\n",
      "           4       0.99      0.99      0.99       982\n",
      "           5       0.99      0.98      0.98       892\n",
      "           6       0.99      0.98      0.99       958\n",
      "           7       0.98      0.97      0.98      1028\n",
      "           8       1.00      0.96      0.98       974\n",
      "           9       0.97      0.99      0.98      1009\n",
      "\n",
      "    accuracy                           0.98     10000\n",
      "   macro avg       0.98      0.98      0.98     10000\n",
      "weighted avg       0.98      0.98      0.98     10000\n",
      "\n"
     ]
    }
   ],
   "source": [
    "predictions=model.predict(xts)\n",
    "print(classification_report(yts.argmax(axis=1),predictions.argmax(axis=1)))"
   ]
  }
 ],
 "metadata": {
  "kernelspec": {
   "display_name": "Python 3 (ipykernel)",
   "language": "python",
   "name": "python3"
  },
  "language_info": {
   "codemirror_mode": {
    "name": "ipython",
    "version": 3
   },
   "file_extension": ".py",
   "mimetype": "text/x-python",
   "name": "python",
   "nbconvert_exporter": "python",
   "pygments_lexer": "ipython3",
   "version": "3.9.13"
  }
 },
 "nbformat": 4,
 "nbformat_minor": 5
}
